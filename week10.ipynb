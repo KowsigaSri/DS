{
  "nbformat": 4,
  "nbformat_minor": 0,
  "metadata": {
    "colab": {
      "provenance": [],
      "authorship_tag": "ABX9TyPTH+GHHi5IjAxi0PyqsINb",
      "include_colab_link": true
    },
    "kernelspec": {
      "name": "python3",
      "display_name": "Python 3"
    },
    "language_info": {
      "name": "python"
    }
  },
  "cells": [
    {
      "cell_type": "markdown",
      "metadata": {
        "id": "view-in-github",
        "colab_type": "text"
      },
      "source": [
        "<a href=\"https://colab.research.google.com/github/KowsigaSri/DS/blob/main/week10.ipynb\" target=\"_parent\"><img src=\"https://colab.research.google.com/assets/colab-badge.svg\" alt=\"Open In Colab\"/></a>"
      ]
    },
    {
      "cell_type": "markdown",
      "source": [
        "Apriori Algorithm"
      ],
      "metadata": {
        "id": "rMqsrxL-lBsX"
      }
    },
    {
      "cell_type": "code",
      "source": [
        "import pandas as pd\n",
        "\n",
        "from mlxtend.preprocessing import TransactionEncoder\n",
        "\n",
        "transactions = [\n",
        "\n",
        " ['Milk', 'Bread', 'Butter'],\n",
        "\n",
        " ['Milk', 'Diaper', 'Beer'],\n",
        "\n",
        " ['Bread', 'Butter'],\n",
        "\n",
        " ['Milk', 'Bread', 'Butter', 'Eggs']\n",
        "\n",
        "]\n",
        "\n",
        "te = TransactionEncoder()\n",
        "\n",
        "te_array = te.fit(transactions).transform(transactions)\n",
        "\n",
        "df = pd.DataFrame(te_array, columns=te.columns_)\n",
        "\n",
        "\n",
        "from mlxtend.frequent_patterns import apriori, association_rules\n",
        "\n",
        "frequent_itemsets = apriori(df, min_support=0.5, use_colnames=True)\n",
        "\n",
        "# Generate association rules\n",
        "rules = association_rules(frequent_itemsets, metric=\"lift\", min_threshold=1)\n",
        "\n",
        "print(rules[['antecedents', 'consequents', 'support', 'confidence', 'lift']])\n"
      ],
      "metadata": {
        "colab": {
          "base_uri": "https://localhost:8080/"
        },
        "id": "30f1ZPUilDwB",
        "outputId": "dde9ab88-a821-4d67-e621-68a2d26483a8"
      },
      "execution_count": null,
      "outputs": [
        {
          "output_type": "stream",
          "name": "stdout",
          "text": [
            "      antecedents     consequents  support  confidence      lift\n",
            "0        (Butter)         (Bread)     0.75    1.000000  1.333333\n",
            "1         (Bread)        (Butter)     0.75    1.000000  1.333333\n",
            "2  (Butter, Milk)         (Bread)     0.50    1.000000  1.333333\n",
            "3   (Bread, Milk)        (Butter)     0.50    1.000000  1.333333\n",
            "4        (Butter)   (Bread, Milk)     0.50    0.666667  1.333333\n",
            "5         (Bread)  (Butter, Milk)     0.50    0.666667  1.333333\n"
          ]
        }
      ]
    },
    {
      "cell_type": "code",
      "source": [
        "import pandas as pd\n",
        "from mlxtend.preprocessing import TransactionEncoder\n",
        "from mlxtend.frequent_patterns import fpgrowth, association_rules # Importing association_rules here\n",
        "\n",
        "transactions = [\n",
        "    ['Milk', 'Bread', 'Butter'],\n",
        "    ['Milk', 'Diaper', 'Beer'],\n",
        "    ['Bread', 'Butter'],\n",
        "    ['Milk', 'Bread', 'Butter', 'Eggs']\n",
        "]\n",
        "te = TransactionEncoder()\n",
        "te_array = te.fit(transactions).transform(transactions)\n",
        "df = pd.DataFrame(te_array, columns=te.columns_)\n",
        "from mlxtend.frequent_patterns import fpgrowth\n",
        "frequent_itemsets_fp = fpgrowth(df, min_support=0.5, use_colnames=True)\n",
        "rules_fp = association_rules(frequent_itemsets_fp, metric=\"lift\", min_threshold=1)\n",
        "print(rules_fp[['antecedents', 'consequents', 'support', 'confidence', 'lift']])"
      ],
      "metadata": {
        "colab": {
          "base_uri": "https://localhost:8080/"
        },
        "id": "EMBtTF4ceSz9",
        "outputId": "9b3b6324-c562-4f9e-bf1f-fd7078a0bcd1"
      },
      "execution_count": null,
      "outputs": [
        {
          "output_type": "stream",
          "name": "stdout",
          "text": [
            "      antecedents     consequents  support  confidence      lift\n",
            "0        (Butter)         (Bread)     0.75    1.000000  1.333333\n",
            "1         (Bread)        (Butter)     0.75    1.000000  1.333333\n",
            "2  (Butter, Milk)         (Bread)     0.50    1.000000  1.333333\n",
            "3   (Bread, Milk)        (Butter)     0.50    1.000000  1.333333\n",
            "4        (Butter)   (Bread, Milk)     0.50    0.666667  1.333333\n",
            "5         (Bread)  (Butter, Milk)     0.50    0.666667  1.333333\n"
          ]
        }
      ]
    },
    {
      "cell_type": "code",
      "source": [
        "import pandas as pd\n",
        "from mlxtend.preprocessing import TransactionEncoder\n",
        "from mlxtend.frequent_patterns import apriori, fpgrowth, association_rules\n",
        "transactions = [\n",
        "   \t ['Milk', 'Bread', 'Butter'],\n",
        "    \t['Milk', 'Diaper', 'Beer'],\n",
        "   \t ['Bread', 'Butter'],\n",
        "  \t  ['Milk', 'Bread', 'Butter', 'Eggs']\n",
        "]\n",
        "te = TransactionEncoder()\n",
        "te_array = te.fit(transactions).transform(transactions)\n",
        "df = pd.DataFrame(te_array, columns=te.columns_)\n",
        "\n",
        "# Apriori\n",
        "frequent_itemsets_apriori = apriori(df, min_support=0.5, use_colnames=True)\n",
        "rules_apriori = association_rules(frequent_itemsets_apriori, metric=\"lift\", min_threshold=1)\n",
        "print(\"\\n=== Apriori Rules ===\")\n",
        "print(rules_apriori[['antecedents', 'consequents', 'support', 'confidence', 'lift']])\n",
        "\n",
        "# FP-Growth\n",
        "frequent_itemsets_fpgrowth = fpgrowth(df, min_support=0.5, use_colnames=True)\n",
        "rules_fpgrowth = association_rules(frequent_itemsets_fpgrowth, metric=\"lift\", min_threshold=1)\n",
        "print(\"\\n=== FP-Growth Rules ===\")\n",
        "print(rules_fpgrowth[['antecedents', 'consequents', 'support', 'confidence', 'lift']])\n",
        "\n"
      ],
      "metadata": {
        "colab": {
          "base_uri": "https://localhost:8080/"
        },
        "id": "3yl2_gi7ea6c",
        "outputId": "3bd573d8-ff67-42a9-d396-06e1d3135a58"
      },
      "execution_count": null,
      "outputs": [
        {
          "output_type": "stream",
          "name": "stdout",
          "text": [
            "\n",
            "=== Apriori Rules ===\n",
            "      antecedents     consequents  support  confidence      lift\n",
            "0        (Butter)         (Bread)     0.75    1.000000  1.333333\n",
            "1         (Bread)        (Butter)     0.75    1.000000  1.333333\n",
            "2  (Butter, Milk)         (Bread)     0.50    1.000000  1.333333\n",
            "3   (Bread, Milk)        (Butter)     0.50    1.000000  1.333333\n",
            "4        (Butter)   (Bread, Milk)     0.50    0.666667  1.333333\n",
            "5         (Bread)  (Butter, Milk)     0.50    0.666667  1.333333\n",
            "\n",
            "=== FP-Growth Rules ===\n",
            "      antecedents     consequents  support  confidence      lift\n",
            "0        (Butter)         (Bread)     0.75    1.000000  1.333333\n",
            "1         (Bread)        (Butter)     0.75    1.000000  1.333333\n",
            "2  (Butter, Milk)         (Bread)     0.50    1.000000  1.333333\n",
            "3   (Bread, Milk)        (Butter)     0.50    1.000000  1.333333\n",
            "4        (Butter)   (Bread, Milk)     0.50    0.666667  1.333333\n",
            "5         (Bread)  (Butter, Milk)     0.50    0.666667  1.333333\n"
          ]
        }
      ]
    },
    {
      "cell_type": "code",
      "source": [
        "import numpy as np\n",
        "from scipy.stats import zscore\n",
        "data = [10, 12, 11, 13, 12, 11, 100]  # 100 is an anomaly\n",
        "z_scores = zscore(data)\n",
        "anomalies = [x for x, z in zip(data, z_scores) if abs(z) > 2]\n",
        "print(anomalies)\n"
      ],
      "metadata": {
        "colab": {
          "base_uri": "https://localhost:8080/"
        },
        "id": "-iuciWzdejCt",
        "outputId": "66a6d08a-d92e-4e69-f566-d009303ce0ae"
      },
      "execution_count": null,
      "outputs": [
        {
          "output_type": "stream",
          "name": "stdout",
          "text": [
            "[100]\n"
          ]
        }
      ]
    },
    {
      "cell_type": "code",
      "source": [
        "from sklearn.ensemble import IsolationForest\n",
        "X = [[10], [12], [11], [13], [100]]  # 100 is an anomaly\n",
        "clf = IsolationForest(contamination=0.2)\n",
        "clf.fit(X)\n",
        "pred = clf.predict(X)\n",
        "print(pred)  # -1 = anomaly, 1 = normal\n"
      ],
      "metadata": {
        "colab": {
          "base_uri": "https://localhost:8080/"
        },
        "id": "6S4G--qMene8",
        "outputId": "47ea12b6-f1f3-4622-f82e-ff246a1ed090"
      },
      "execution_count": null,
      "outputs": [
        {
          "output_type": "stream",
          "name": "stdout",
          "text": [
            "[ 1  1  1  1 -1]\n"
          ]
        }
      ]
    },
    {
      "cell_type": "code",
      "source": [
        "from sklearn.svm import OneClassSVM\n",
        "X = [[10], [12], [11], [13], [100]]\n",
        "clf = OneClassSVM(nu=0.1, kernel=\"rbf\", gamma=0.1)\n",
        "clf.fit(X)\n",
        "pred = clf.predict(X)\n",
        "print(pred)  # -1 = anomaly, 1 = normal\n"
      ],
      "metadata": {
        "colab": {
          "base_uri": "https://localhost:8080/"
        },
        "id": "nRTjZf49esl0",
        "outputId": "747e91cb-27c2-44db-a711-cbd94f088ba6"
      },
      "execution_count": null,
      "outputs": [
        {
          "output_type": "stream",
          "name": "stdout",
          "text": [
            "[-1  1  1  1  1]\n"
          ]
        }
      ]
    },
    {
      "cell_type": "code",
      "source": [
        "import pandas as pd\n",
        "from sklearn.ensemble import IsolationForest\n",
        "data = [[10], [12], [11], [13], [12], [11], [14], [15], [100], [110]]  # 100 and 110 are outliers\n",
        "df = pd.DataFrame(data, columns=[\"Value\"])\n",
        "model = IsolationForest(contamination=0.2, random_state=42)\n",
        "model.fit(df)\n",
        "df[\"Anomaly\"] = model.predict(df)\n",
        "df[\"Anomaly_Label\"] = df[\"Anomaly\"].map({1: \"Normal\", -1: \"Anomaly\"})\n",
        "print(df)\n"
      ],
      "metadata": {
        "colab": {
          "base_uri": "https://localhost:8080/"
        },
        "id": "izKsfCmJey_s",
        "outputId": "67fcdff4-7e2d-4a5f-c952-cbcdf6fa924e"
      },
      "execution_count": null,
      "outputs": [
        {
          "output_type": "stream",
          "name": "stdout",
          "text": [
            "   Value  Anomaly Anomaly_Label\n",
            "0     10        1        Normal\n",
            "1     12        1        Normal\n",
            "2     11        1        Normal\n",
            "3     13        1        Normal\n",
            "4     12        1        Normal\n",
            "5     11        1        Normal\n",
            "6     14        1        Normal\n",
            "7     15        1        Normal\n",
            "8    100       -1       Anomaly\n",
            "9    110       -1       Anomaly\n"
          ]
        }
      ]
    }
  ]
}